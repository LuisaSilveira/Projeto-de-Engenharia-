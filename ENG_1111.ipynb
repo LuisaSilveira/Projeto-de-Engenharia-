{
  "cells": [
    {
      "cell_type": "markdown",
      "metadata": {
        "id": "view-in-github",
        "colab_type": "text"
      },
      "source": [
        "<a href=\"https://colab.research.google.com/github/LuisaSilveira/Projeto-de-Engenharia-/blob/main/ENG_1111.ipynb\" target=\"_parent\"><img src=\"https://colab.research.google.com/assets/colab-badge.svg\" alt=\"Open In Colab\"/></a>"
      ]
    },
    {
      "cell_type": "code",
      "source": [
        "import pandas as pd \n",
        "import numpy as np\n",
        "from google.colab import drive\n",
        "\n",
        "#lendo o arquivo de respostas do drive\n",
        "drive.mount('/drive')\n",
        "\n",
        "respostas = pd.read_csv(\"/drive/MyDrive/ENG1111/respostas_true2.txt\")\n",
        "\n",
        "respostas.head()\n"
      ],
      "metadata": {
        "id": "LOIPmbAi_j5-",
        "colab": {
          "base_uri": "https://localhost:8080/",
          "height": 476
        },
        "outputId": "105bbc6d-9a97-4ee6-9fb9-762ffbdc50cc"
      },
      "execution_count": null,
      "outputs": [
        {
          "output_type": "stream",
          "name": "stdout",
          "text": [
            "Drive already mounted at /drive; to attempt to forcibly remount, call drive.mount(\"/drive\", force_remount=True).\n"
          ]
        },
        {
          "output_type": "execute_result",
          "data": {
            "text/plain": [
              "  Carimbo de data/hora  Idade     Gênero Qual seu curso?     Faculdade:  \\\n",
              "0  10/11/2022 13:40:14     19  Masculino      Engenharia  Souza Marques   \n",
              "1  10/11/2022 13:43:51     20  Masculino        Economia           UFRJ   \n",
              "2  10/11/2022 14:36:36     19  Masculino      Engenharia            PUC   \n",
              "3  10/11/2022 14:48:59     18  Masculino      Engenharia            PUC   \n",
              "4  10/11/2022 14:49:15     18  Masculino      Engenharia            PUC   \n",
              "\n",
              "   Período: (em números)  Coeficiente de rendimento: (CR)     Estado civil:  \\\n",
              "0                     14                              3.5            Casado   \n",
              "1                     15                              5.8  Em união estável   \n",
              "2                      2                              6.7          Solteiro   \n",
              "3                      2                              7.0          Solteiro   \n",
              "4                      2                              6.6          Solteiro   \n",
              "\n",
              "  Você tem/já teve algum problema de saúde mental?  \\\n",
              "0                                          Não sei   \n",
              "1                                          Não sei   \n",
              "2                                              NaN   \n",
              "3                                              NaN   \n",
              "4                                              NaN   \n",
              "\n",
              "  Você tem ou já teve depressão? Você tem ou já teve ansiedade?  \\\n",
              "0                            Sim                            Sim   \n",
              "1                            Não                            Não   \n",
              "2                            Não                            Não   \n",
              "3                            Não                            Não   \n",
              "4                            Não                            Não   \n",
              "\n",
              "  Você tem ou já teve ataque de pânico?  \\\n",
              "0                                   Sim   \n",
              "1                                   Não   \n",
              "2                                   Não   \n",
              "3                                   Não   \n",
              "4                                   Não   \n",
              "\n",
              "  Utiliza algum medicamento psiquiátrico?\\n  \\\n",
              "0                                       Sim   \n",
              "1                                       Não   \n",
              "2                                       Não   \n",
              "3                                       Não   \n",
              "4                                       Não   \n",
              "\n",
              "  Conta com acompanhamento psicológico/psiquiátrico?  \\\n",
              "0                                                Sim   \n",
              "1                                                Não   \n",
              "2                                                Não   \n",
              "3                                                Não   \n",
              "4                                                Não   \n",
              "\n",
              "   O quão bem você se sente no cotidiano?  \n",
              "0                                      10  \n",
              "1                                       2  \n",
              "2                                       9  \n",
              "3                                       8  \n",
              "4                                       8  "
            ],
            "text/html": [
              "\n",
              "  <div id=\"df-b575026e-b7bf-4dfb-aefb-8aa3a7500df5\">\n",
              "    <div class=\"colab-df-container\">\n",
              "      <div>\n",
              "<style scoped>\n",
              "    .dataframe tbody tr th:only-of-type {\n",
              "        vertical-align: middle;\n",
              "    }\n",
              "\n",
              "    .dataframe tbody tr th {\n",
              "        vertical-align: top;\n",
              "    }\n",
              "\n",
              "    .dataframe thead th {\n",
              "        text-align: right;\n",
              "    }\n",
              "</style>\n",
              "<table border=\"1\" class=\"dataframe\">\n",
              "  <thead>\n",
              "    <tr style=\"text-align: right;\">\n",
              "      <th></th>\n",
              "      <th>Carimbo de data/hora</th>\n",
              "      <th>Idade</th>\n",
              "      <th>Gênero</th>\n",
              "      <th>Qual seu curso?</th>\n",
              "      <th>Faculdade:</th>\n",
              "      <th>Período: (em números)</th>\n",
              "      <th>Coeficiente de rendimento: (CR)</th>\n",
              "      <th>Estado civil:</th>\n",
              "      <th>Você tem/já teve algum problema de saúde mental?</th>\n",
              "      <th>Você tem ou já teve depressão?</th>\n",
              "      <th>Você tem ou já teve ansiedade?</th>\n",
              "      <th>Você tem ou já teve ataque de pânico?</th>\n",
              "      <th>Utiliza algum medicamento psiquiátrico?\\n</th>\n",
              "      <th>Conta com acompanhamento psicológico/psiquiátrico?</th>\n",
              "      <th>O quão bem você se sente no cotidiano?</th>\n",
              "    </tr>\n",
              "  </thead>\n",
              "  <tbody>\n",
              "    <tr>\n",
              "      <th>0</th>\n",
              "      <td>10/11/2022 13:40:14</td>\n",
              "      <td>19</td>\n",
              "      <td>Masculino</td>\n",
              "      <td>Engenharia</td>\n",
              "      <td>Souza Marques</td>\n",
              "      <td>14</td>\n",
              "      <td>3.5</td>\n",
              "      <td>Casado</td>\n",
              "      <td>Não sei</td>\n",
              "      <td>Sim</td>\n",
              "      <td>Sim</td>\n",
              "      <td>Sim</td>\n",
              "      <td>Sim</td>\n",
              "      <td>Sim</td>\n",
              "      <td>10</td>\n",
              "    </tr>\n",
              "    <tr>\n",
              "      <th>1</th>\n",
              "      <td>10/11/2022 13:43:51</td>\n",
              "      <td>20</td>\n",
              "      <td>Masculino</td>\n",
              "      <td>Economia</td>\n",
              "      <td>UFRJ</td>\n",
              "      <td>15</td>\n",
              "      <td>5.8</td>\n",
              "      <td>Em união estável</td>\n",
              "      <td>Não sei</td>\n",
              "      <td>Não</td>\n",
              "      <td>Não</td>\n",
              "      <td>Não</td>\n",
              "      <td>Não</td>\n",
              "      <td>Não</td>\n",
              "      <td>2</td>\n",
              "    </tr>\n",
              "    <tr>\n",
              "      <th>2</th>\n",
              "      <td>10/11/2022 14:36:36</td>\n",
              "      <td>19</td>\n",
              "      <td>Masculino</td>\n",
              "      <td>Engenharia</td>\n",
              "      <td>PUC</td>\n",
              "      <td>2</td>\n",
              "      <td>6.7</td>\n",
              "      <td>Solteiro</td>\n",
              "      <td>NaN</td>\n",
              "      <td>Não</td>\n",
              "      <td>Não</td>\n",
              "      <td>Não</td>\n",
              "      <td>Não</td>\n",
              "      <td>Não</td>\n",
              "      <td>9</td>\n",
              "    </tr>\n",
              "    <tr>\n",
              "      <th>3</th>\n",
              "      <td>10/11/2022 14:48:59</td>\n",
              "      <td>18</td>\n",
              "      <td>Masculino</td>\n",
              "      <td>Engenharia</td>\n",
              "      <td>PUC</td>\n",
              "      <td>2</td>\n",
              "      <td>7.0</td>\n",
              "      <td>Solteiro</td>\n",
              "      <td>NaN</td>\n",
              "      <td>Não</td>\n",
              "      <td>Não</td>\n",
              "      <td>Não</td>\n",
              "      <td>Não</td>\n",
              "      <td>Não</td>\n",
              "      <td>8</td>\n",
              "    </tr>\n",
              "    <tr>\n",
              "      <th>4</th>\n",
              "      <td>10/11/2022 14:49:15</td>\n",
              "      <td>18</td>\n",
              "      <td>Masculino</td>\n",
              "      <td>Engenharia</td>\n",
              "      <td>PUC</td>\n",
              "      <td>2</td>\n",
              "      <td>6.6</td>\n",
              "      <td>Solteiro</td>\n",
              "      <td>NaN</td>\n",
              "      <td>Não</td>\n",
              "      <td>Não</td>\n",
              "      <td>Não</td>\n",
              "      <td>Não</td>\n",
              "      <td>Não</td>\n",
              "      <td>8</td>\n",
              "    </tr>\n",
              "  </tbody>\n",
              "</table>\n",
              "</div>\n",
              "      <button class=\"colab-df-convert\" onclick=\"convertToInteractive('df-b575026e-b7bf-4dfb-aefb-8aa3a7500df5')\"\n",
              "              title=\"Convert this dataframe to an interactive table.\"\n",
              "              style=\"display:none;\">\n",
              "        \n",
              "  <svg xmlns=\"http://www.w3.org/2000/svg\" height=\"24px\"viewBox=\"0 0 24 24\"\n",
              "       width=\"24px\">\n",
              "    <path d=\"M0 0h24v24H0V0z\" fill=\"none\"/>\n",
              "    <path d=\"M18.56 5.44l.94 2.06.94-2.06 2.06-.94-2.06-.94-.94-2.06-.94 2.06-2.06.94zm-11 1L8.5 8.5l.94-2.06 2.06-.94-2.06-.94L8.5 2.5l-.94 2.06-2.06.94zm10 10l.94 2.06.94-2.06 2.06-.94-2.06-.94-.94-2.06-.94 2.06-2.06.94z\"/><path d=\"M17.41 7.96l-1.37-1.37c-.4-.4-.92-.59-1.43-.59-.52 0-1.04.2-1.43.59L10.3 9.45l-7.72 7.72c-.78.78-.78 2.05 0 2.83L4 21.41c.39.39.9.59 1.41.59.51 0 1.02-.2 1.41-.59l7.78-7.78 2.81-2.81c.8-.78.8-2.07 0-2.86zM5.41 20L4 18.59l7.72-7.72 1.47 1.35L5.41 20z\"/>\n",
              "  </svg>\n",
              "      </button>\n",
              "      \n",
              "  <style>\n",
              "    .colab-df-container {\n",
              "      display:flex;\n",
              "      flex-wrap:wrap;\n",
              "      gap: 12px;\n",
              "    }\n",
              "\n",
              "    .colab-df-convert {\n",
              "      background-color: #E8F0FE;\n",
              "      border: none;\n",
              "      border-radius: 50%;\n",
              "      cursor: pointer;\n",
              "      display: none;\n",
              "      fill: #1967D2;\n",
              "      height: 32px;\n",
              "      padding: 0 0 0 0;\n",
              "      width: 32px;\n",
              "    }\n",
              "\n",
              "    .colab-df-convert:hover {\n",
              "      background-color: #E2EBFA;\n",
              "      box-shadow: 0px 1px 2px rgba(60, 64, 67, 0.3), 0px 1px 3px 1px rgba(60, 64, 67, 0.15);\n",
              "      fill: #174EA6;\n",
              "    }\n",
              "\n",
              "    [theme=dark] .colab-df-convert {\n",
              "      background-color: #3B4455;\n",
              "      fill: #D2E3FC;\n",
              "    }\n",
              "\n",
              "    [theme=dark] .colab-df-convert:hover {\n",
              "      background-color: #434B5C;\n",
              "      box-shadow: 0px 1px 3px 1px rgba(0, 0, 0, 0.15);\n",
              "      filter: drop-shadow(0px 1px 2px rgba(0, 0, 0, 0.3));\n",
              "      fill: #FFFFFF;\n",
              "    }\n",
              "  </style>\n",
              "\n",
              "      <script>\n",
              "        const buttonEl =\n",
              "          document.querySelector('#df-b575026e-b7bf-4dfb-aefb-8aa3a7500df5 button.colab-df-convert');\n",
              "        buttonEl.style.display =\n",
              "          google.colab.kernel.accessAllowed ? 'block' : 'none';\n",
              "\n",
              "        async function convertToInteractive(key) {\n",
              "          const element = document.querySelector('#df-b575026e-b7bf-4dfb-aefb-8aa3a7500df5');\n",
              "          const dataTable =\n",
              "            await google.colab.kernel.invokeFunction('convertToInteractive',\n",
              "                                                     [key], {});\n",
              "          if (!dataTable) return;\n",
              "\n",
              "          const docLinkHtml = 'Like what you see? Visit the ' +\n",
              "            '<a target=\"_blank\" href=https://colab.research.google.com/notebooks/data_table.ipynb>data table notebook</a>'\n",
              "            + ' to learn more about interactive tables.';\n",
              "          element.innerHTML = '';\n",
              "          dataTable['output_type'] = 'display_data';\n",
              "          await google.colab.output.renderOutput(dataTable, element);\n",
              "          const docLink = document.createElement('div');\n",
              "          docLink.innerHTML = docLinkHtml;\n",
              "          element.appendChild(docLink);\n",
              "        }\n",
              "      </script>\n",
              "    </div>\n",
              "  </div>\n",
              "  "
            ]
          },
          "metadata": {},
          "execution_count": 6
        }
      ]
    },
    {
      "cell_type": "code",
      "source": [
        "respostas.columns = ['dateTime','idade', 'gen', 'curso', 'facul', 'peri', 'cr','ec', 'ja teve','dep','ans','pan','med','acomp', 'sent']\n",
        "\n",
        "\n",
        "#limpando valores inúteis;\n",
        "respostas.drop(['ja teve','dateTime'],inplace =True, axis =1)\n",
        "\n",
        "\n",
        "#agrupando CRs\n",
        "respostas.cr = pd.cut(respostas['cr'], bins = [2,4,6,8,10], labels = [ 'baixo', 'medio', 'alto', 'muito alto'])\n",
        "\n",
        "respostas.head(10)\n"
      ],
      "metadata": {
        "id": "m_zHkoEEJ7IW",
        "colab": {
          "base_uri": "https://localhost:8080/",
          "height": 363
        },
        "outputId": "68d9cb2b-529b-4166-c038-5c0539e79165"
      },
      "execution_count": null,
      "outputs": [
        {
          "output_type": "execute_result",
          "data": {
            "text/plain": [
              "   idade        gen       curso          facul  peri          cr  \\\n",
              "0     19  Masculino  Engenharia  Souza Marques    14       baixo   \n",
              "1     20  Masculino    Economia           UFRJ    15       medio   \n",
              "2     19  Masculino  Engenharia            PUC     2        alto   \n",
              "3     18  Masculino  Engenharia            PUC     2        alto   \n",
              "4     18  Masculino  Engenharia            PUC     2        alto   \n",
              "5     20  Masculino  Engenharia            PUC     2        alto   \n",
              "6     19  Masculino  Engenharia            PUC     2        alto   \n",
              "7     18   Feminino  Engenharia            PUC     2       medio   \n",
              "8     19   Feminino  Engenharia            PUC     2  muito alto   \n",
              "9     19  Masculino  Engenharia            PUC     4        alto   \n",
              "\n",
              "                 ec  dep  ans  pan  med acomp  sent  \n",
              "0            Casado  Sim  Sim  Sim  Sim   Sim    10  \n",
              "1  Em união estável  Não  Não  Não  Não   Não     2  \n",
              "2          Solteiro  Não  Não  Não  Não   Não     9  \n",
              "3          Solteiro  Não  Não  Não  Não   Não     8  \n",
              "4          Solteiro  Não  Não  Não  Não   Não     8  \n",
              "5          Solteiro  Não  Não  Não  Não   Não     7  \n",
              "6          Solteiro  Não  Não  Sim  Não   Não     7  \n",
              "7          Solteiro  Não  Sim  Sim  Não   Não     6  \n",
              "8          Solteiro  Não  Não  Não  Não   Não     9  \n",
              "9          Solteiro  Não  Não  Não  Não   Não     5  "
            ],
            "text/html": [
              "\n",
              "  <div id=\"df-aa52ccc0-02c8-4d66-b735-7dc55ccde0ab\">\n",
              "    <div class=\"colab-df-container\">\n",
              "      <div>\n",
              "<style scoped>\n",
              "    .dataframe tbody tr th:only-of-type {\n",
              "        vertical-align: middle;\n",
              "    }\n",
              "\n",
              "    .dataframe tbody tr th {\n",
              "        vertical-align: top;\n",
              "    }\n",
              "\n",
              "    .dataframe thead th {\n",
              "        text-align: right;\n",
              "    }\n",
              "</style>\n",
              "<table border=\"1\" class=\"dataframe\">\n",
              "  <thead>\n",
              "    <tr style=\"text-align: right;\">\n",
              "      <th></th>\n",
              "      <th>idade</th>\n",
              "      <th>gen</th>\n",
              "      <th>curso</th>\n",
              "      <th>facul</th>\n",
              "      <th>peri</th>\n",
              "      <th>cr</th>\n",
              "      <th>ec</th>\n",
              "      <th>dep</th>\n",
              "      <th>ans</th>\n",
              "      <th>pan</th>\n",
              "      <th>med</th>\n",
              "      <th>acomp</th>\n",
              "      <th>sent</th>\n",
              "    </tr>\n",
              "  </thead>\n",
              "  <tbody>\n",
              "    <tr>\n",
              "      <th>0</th>\n",
              "      <td>19</td>\n",
              "      <td>Masculino</td>\n",
              "      <td>Engenharia</td>\n",
              "      <td>Souza Marques</td>\n",
              "      <td>14</td>\n",
              "      <td>baixo</td>\n",
              "      <td>Casado</td>\n",
              "      <td>Sim</td>\n",
              "      <td>Sim</td>\n",
              "      <td>Sim</td>\n",
              "      <td>Sim</td>\n",
              "      <td>Sim</td>\n",
              "      <td>10</td>\n",
              "    </tr>\n",
              "    <tr>\n",
              "      <th>1</th>\n",
              "      <td>20</td>\n",
              "      <td>Masculino</td>\n",
              "      <td>Economia</td>\n",
              "      <td>UFRJ</td>\n",
              "      <td>15</td>\n",
              "      <td>medio</td>\n",
              "      <td>Em união estável</td>\n",
              "      <td>Não</td>\n",
              "      <td>Não</td>\n",
              "      <td>Não</td>\n",
              "      <td>Não</td>\n",
              "      <td>Não</td>\n",
              "      <td>2</td>\n",
              "    </tr>\n",
              "    <tr>\n",
              "      <th>2</th>\n",
              "      <td>19</td>\n",
              "      <td>Masculino</td>\n",
              "      <td>Engenharia</td>\n",
              "      <td>PUC</td>\n",
              "      <td>2</td>\n",
              "      <td>alto</td>\n",
              "      <td>Solteiro</td>\n",
              "      <td>Não</td>\n",
              "      <td>Não</td>\n",
              "      <td>Não</td>\n",
              "      <td>Não</td>\n",
              "      <td>Não</td>\n",
              "      <td>9</td>\n",
              "    </tr>\n",
              "    <tr>\n",
              "      <th>3</th>\n",
              "      <td>18</td>\n",
              "      <td>Masculino</td>\n",
              "      <td>Engenharia</td>\n",
              "      <td>PUC</td>\n",
              "      <td>2</td>\n",
              "      <td>alto</td>\n",
              "      <td>Solteiro</td>\n",
              "      <td>Não</td>\n",
              "      <td>Não</td>\n",
              "      <td>Não</td>\n",
              "      <td>Não</td>\n",
              "      <td>Não</td>\n",
              "      <td>8</td>\n",
              "    </tr>\n",
              "    <tr>\n",
              "      <th>4</th>\n",
              "      <td>18</td>\n",
              "      <td>Masculino</td>\n",
              "      <td>Engenharia</td>\n",
              "      <td>PUC</td>\n",
              "      <td>2</td>\n",
              "      <td>alto</td>\n",
              "      <td>Solteiro</td>\n",
              "      <td>Não</td>\n",
              "      <td>Não</td>\n",
              "      <td>Não</td>\n",
              "      <td>Não</td>\n",
              "      <td>Não</td>\n",
              "      <td>8</td>\n",
              "    </tr>\n",
              "    <tr>\n",
              "      <th>5</th>\n",
              "      <td>20</td>\n",
              "      <td>Masculino</td>\n",
              "      <td>Engenharia</td>\n",
              "      <td>PUC</td>\n",
              "      <td>2</td>\n",
              "      <td>alto</td>\n",
              "      <td>Solteiro</td>\n",
              "      <td>Não</td>\n",
              "      <td>Não</td>\n",
              "      <td>Não</td>\n",
              "      <td>Não</td>\n",
              "      <td>Não</td>\n",
              "      <td>7</td>\n",
              "    </tr>\n",
              "    <tr>\n",
              "      <th>6</th>\n",
              "      <td>19</td>\n",
              "      <td>Masculino</td>\n",
              "      <td>Engenharia</td>\n",
              "      <td>PUC</td>\n",
              "      <td>2</td>\n",
              "      <td>alto</td>\n",
              "      <td>Solteiro</td>\n",
              "      <td>Não</td>\n",
              "      <td>Não</td>\n",
              "      <td>Sim</td>\n",
              "      <td>Não</td>\n",
              "      <td>Não</td>\n",
              "      <td>7</td>\n",
              "    </tr>\n",
              "    <tr>\n",
              "      <th>7</th>\n",
              "      <td>18</td>\n",
              "      <td>Feminino</td>\n",
              "      <td>Engenharia</td>\n",
              "      <td>PUC</td>\n",
              "      <td>2</td>\n",
              "      <td>medio</td>\n",
              "      <td>Solteiro</td>\n",
              "      <td>Não</td>\n",
              "      <td>Sim</td>\n",
              "      <td>Sim</td>\n",
              "      <td>Não</td>\n",
              "      <td>Não</td>\n",
              "      <td>6</td>\n",
              "    </tr>\n",
              "    <tr>\n",
              "      <th>8</th>\n",
              "      <td>19</td>\n",
              "      <td>Feminino</td>\n",
              "      <td>Engenharia</td>\n",
              "      <td>PUC</td>\n",
              "      <td>2</td>\n",
              "      <td>muito alto</td>\n",
              "      <td>Solteiro</td>\n",
              "      <td>Não</td>\n",
              "      <td>Não</td>\n",
              "      <td>Não</td>\n",
              "      <td>Não</td>\n",
              "      <td>Não</td>\n",
              "      <td>9</td>\n",
              "    </tr>\n",
              "    <tr>\n",
              "      <th>9</th>\n",
              "      <td>19</td>\n",
              "      <td>Masculino</td>\n",
              "      <td>Engenharia</td>\n",
              "      <td>PUC</td>\n",
              "      <td>4</td>\n",
              "      <td>alto</td>\n",
              "      <td>Solteiro</td>\n",
              "      <td>Não</td>\n",
              "      <td>Não</td>\n",
              "      <td>Não</td>\n",
              "      <td>Não</td>\n",
              "      <td>Não</td>\n",
              "      <td>5</td>\n",
              "    </tr>\n",
              "  </tbody>\n",
              "</table>\n",
              "</div>\n",
              "      <button class=\"colab-df-convert\" onclick=\"convertToInteractive('df-aa52ccc0-02c8-4d66-b735-7dc55ccde0ab')\"\n",
              "              title=\"Convert this dataframe to an interactive table.\"\n",
              "              style=\"display:none;\">\n",
              "        \n",
              "  <svg xmlns=\"http://www.w3.org/2000/svg\" height=\"24px\"viewBox=\"0 0 24 24\"\n",
              "       width=\"24px\">\n",
              "    <path d=\"M0 0h24v24H0V0z\" fill=\"none\"/>\n",
              "    <path d=\"M18.56 5.44l.94 2.06.94-2.06 2.06-.94-2.06-.94-.94-2.06-.94 2.06-2.06.94zm-11 1L8.5 8.5l.94-2.06 2.06-.94-2.06-.94L8.5 2.5l-.94 2.06-2.06.94zm10 10l.94 2.06.94-2.06 2.06-.94-2.06-.94-.94-2.06-.94 2.06-2.06.94z\"/><path d=\"M17.41 7.96l-1.37-1.37c-.4-.4-.92-.59-1.43-.59-.52 0-1.04.2-1.43.59L10.3 9.45l-7.72 7.72c-.78.78-.78 2.05 0 2.83L4 21.41c.39.39.9.59 1.41.59.51 0 1.02-.2 1.41-.59l7.78-7.78 2.81-2.81c.8-.78.8-2.07 0-2.86zM5.41 20L4 18.59l7.72-7.72 1.47 1.35L5.41 20z\"/>\n",
              "  </svg>\n",
              "      </button>\n",
              "      \n",
              "  <style>\n",
              "    .colab-df-container {\n",
              "      display:flex;\n",
              "      flex-wrap:wrap;\n",
              "      gap: 12px;\n",
              "    }\n",
              "\n",
              "    .colab-df-convert {\n",
              "      background-color: #E8F0FE;\n",
              "      border: none;\n",
              "      border-radius: 50%;\n",
              "      cursor: pointer;\n",
              "      display: none;\n",
              "      fill: #1967D2;\n",
              "      height: 32px;\n",
              "      padding: 0 0 0 0;\n",
              "      width: 32px;\n",
              "    }\n",
              "\n",
              "    .colab-df-convert:hover {\n",
              "      background-color: #E2EBFA;\n",
              "      box-shadow: 0px 1px 2px rgba(60, 64, 67, 0.3), 0px 1px 3px 1px rgba(60, 64, 67, 0.15);\n",
              "      fill: #174EA6;\n",
              "    }\n",
              "\n",
              "    [theme=dark] .colab-df-convert {\n",
              "      background-color: #3B4455;\n",
              "      fill: #D2E3FC;\n",
              "    }\n",
              "\n",
              "    [theme=dark] .colab-df-convert:hover {\n",
              "      background-color: #434B5C;\n",
              "      box-shadow: 0px 1px 3px 1px rgba(0, 0, 0, 0.15);\n",
              "      filter: drop-shadow(0px 1px 2px rgba(0, 0, 0, 0.3));\n",
              "      fill: #FFFFFF;\n",
              "    }\n",
              "  </style>\n",
              "\n",
              "      <script>\n",
              "        const buttonEl =\n",
              "          document.querySelector('#df-aa52ccc0-02c8-4d66-b735-7dc55ccde0ab button.colab-df-convert');\n",
              "        buttonEl.style.display =\n",
              "          google.colab.kernel.accessAllowed ? 'block' : 'none';\n",
              "\n",
              "        async function convertToInteractive(key) {\n",
              "          const element = document.querySelector('#df-aa52ccc0-02c8-4d66-b735-7dc55ccde0ab');\n",
              "          const dataTable =\n",
              "            await google.colab.kernel.invokeFunction('convertToInteractive',\n",
              "                                                     [key], {});\n",
              "          if (!dataTable) return;\n",
              "\n",
              "          const docLinkHtml = 'Like what you see? Visit the ' +\n",
              "            '<a target=\"_blank\" href=https://colab.research.google.com/notebooks/data_table.ipynb>data table notebook</a>'\n",
              "            + ' to learn more about interactive tables.';\n",
              "          element.innerHTML = '';\n",
              "          dataTable['output_type'] = 'display_data';\n",
              "          await google.colab.output.renderOutput(dataTable, element);\n",
              "          const docLink = document.createElement('div');\n",
              "          docLink.innerHTML = docLinkHtml;\n",
              "          element.appendChild(docLink);\n",
              "        }\n",
              "      </script>\n",
              "    </div>\n",
              "  </div>\n",
              "  "
            ]
          },
          "metadata": {},
          "execution_count": 7
        }
      ]
    },
    {
      "cell_type": "code",
      "source": [
        "def abrevia(coluna, cutoff):\n",
        "    mapa = dict()\n",
        "    for i in range(len(coluna)):\n",
        "        if coluna.values[i] >= cutoff:\n",
        "            mapa[coluna.index[i]] = coluna.index[i]\n",
        "        else:\n",
        "            mapa[coluna.index[i]] = 'Outro'\n",
        "    return mapa\n",
        "\n",
        "mapaFacul =  abrevia(respostas.facul.value_counts(), 6)\n",
        "respostas.facul = respostas.facul.map(mapaFacul)\n",
        "\n",
        "mapaCursos = abrevia(respostas.curso.value_counts(),8)\n",
        "respostas.curso = respostas.curso.map(mapaCursos)\n",
        "\n",
        "print(respostas.facul.value_counts().index)\n",
        "print(respostas.curso.value_counts().index)\n",
        "respostas.head()"
      ],
      "metadata": {
        "colab": {
          "base_uri": "https://localhost:8080/",
          "height": 241
        },
        "id": "jb68aYtOtmKV",
        "outputId": "e0e6f439-e34c-49a2-ea7f-4045c3cd33cd"
      },
      "execution_count": null,
      "outputs": [
        {
          "output_type": "stream",
          "name": "stdout",
          "text": [
            "Index(['PUC', 'Outro', 'UFRJ', 'UFF', 'Estácio'], dtype='object')\n",
            "Index(['Engenharia', 'Outro', 'Medicina', 'Direito', 'Psicologia'], dtype='object')\n"
          ]
        },
        {
          "output_type": "execute_result",
          "data": {
            "text/plain": [
              "   idade        gen       curso  facul  peri     cr                ec  dep  \\\n",
              "0     19  Masculino  Engenharia  Outro    14  baixo            Casado  Sim   \n",
              "1     20  Masculino       Outro   UFRJ    15  medio  Em união estável  Não   \n",
              "2     19  Masculino  Engenharia    PUC     2   alto          Solteiro  Não   \n",
              "3     18  Masculino  Engenharia    PUC     2   alto          Solteiro  Não   \n",
              "4     18  Masculino  Engenharia    PUC     2   alto          Solteiro  Não   \n",
              "\n",
              "   ans  pan  med acomp  sent  \n",
              "0  Sim  Sim  Sim   Sim    10  \n",
              "1  Não  Não  Não   Não     2  \n",
              "2  Não  Não  Não   Não     9  \n",
              "3  Não  Não  Não   Não     8  \n",
              "4  Não  Não  Não   Não     8  "
            ],
            "text/html": [
              "\n",
              "  <div id=\"df-1df54957-2414-4384-a32c-da240f8a337a\">\n",
              "    <div class=\"colab-df-container\">\n",
              "      <div>\n",
              "<style scoped>\n",
              "    .dataframe tbody tr th:only-of-type {\n",
              "        vertical-align: middle;\n",
              "    }\n",
              "\n",
              "    .dataframe tbody tr th {\n",
              "        vertical-align: top;\n",
              "    }\n",
              "\n",
              "    .dataframe thead th {\n",
              "        text-align: right;\n",
              "    }\n",
              "</style>\n",
              "<table border=\"1\" class=\"dataframe\">\n",
              "  <thead>\n",
              "    <tr style=\"text-align: right;\">\n",
              "      <th></th>\n",
              "      <th>idade</th>\n",
              "      <th>gen</th>\n",
              "      <th>curso</th>\n",
              "      <th>facul</th>\n",
              "      <th>peri</th>\n",
              "      <th>cr</th>\n",
              "      <th>ec</th>\n",
              "      <th>dep</th>\n",
              "      <th>ans</th>\n",
              "      <th>pan</th>\n",
              "      <th>med</th>\n",
              "      <th>acomp</th>\n",
              "      <th>sent</th>\n",
              "    </tr>\n",
              "  </thead>\n",
              "  <tbody>\n",
              "    <tr>\n",
              "      <th>0</th>\n",
              "      <td>19</td>\n",
              "      <td>Masculino</td>\n",
              "      <td>Engenharia</td>\n",
              "      <td>Outro</td>\n",
              "      <td>14</td>\n",
              "      <td>baixo</td>\n",
              "      <td>Casado</td>\n",
              "      <td>Sim</td>\n",
              "      <td>Sim</td>\n",
              "      <td>Sim</td>\n",
              "      <td>Sim</td>\n",
              "      <td>Sim</td>\n",
              "      <td>10</td>\n",
              "    </tr>\n",
              "    <tr>\n",
              "      <th>1</th>\n",
              "      <td>20</td>\n",
              "      <td>Masculino</td>\n",
              "      <td>Outro</td>\n",
              "      <td>UFRJ</td>\n",
              "      <td>15</td>\n",
              "      <td>medio</td>\n",
              "      <td>Em união estável</td>\n",
              "      <td>Não</td>\n",
              "      <td>Não</td>\n",
              "      <td>Não</td>\n",
              "      <td>Não</td>\n",
              "      <td>Não</td>\n",
              "      <td>2</td>\n",
              "    </tr>\n",
              "    <tr>\n",
              "      <th>2</th>\n",
              "      <td>19</td>\n",
              "      <td>Masculino</td>\n",
              "      <td>Engenharia</td>\n",
              "      <td>PUC</td>\n",
              "      <td>2</td>\n",
              "      <td>alto</td>\n",
              "      <td>Solteiro</td>\n",
              "      <td>Não</td>\n",
              "      <td>Não</td>\n",
              "      <td>Não</td>\n",
              "      <td>Não</td>\n",
              "      <td>Não</td>\n",
              "      <td>9</td>\n",
              "    </tr>\n",
              "    <tr>\n",
              "      <th>3</th>\n",
              "      <td>18</td>\n",
              "      <td>Masculino</td>\n",
              "      <td>Engenharia</td>\n",
              "      <td>PUC</td>\n",
              "      <td>2</td>\n",
              "      <td>alto</td>\n",
              "      <td>Solteiro</td>\n",
              "      <td>Não</td>\n",
              "      <td>Não</td>\n",
              "      <td>Não</td>\n",
              "      <td>Não</td>\n",
              "      <td>Não</td>\n",
              "      <td>8</td>\n",
              "    </tr>\n",
              "    <tr>\n",
              "      <th>4</th>\n",
              "      <td>18</td>\n",
              "      <td>Masculino</td>\n",
              "      <td>Engenharia</td>\n",
              "      <td>PUC</td>\n",
              "      <td>2</td>\n",
              "      <td>alto</td>\n",
              "      <td>Solteiro</td>\n",
              "      <td>Não</td>\n",
              "      <td>Não</td>\n",
              "      <td>Não</td>\n",
              "      <td>Não</td>\n",
              "      <td>Não</td>\n",
              "      <td>8</td>\n",
              "    </tr>\n",
              "  </tbody>\n",
              "</table>\n",
              "</div>\n",
              "      <button class=\"colab-df-convert\" onclick=\"convertToInteractive('df-1df54957-2414-4384-a32c-da240f8a337a')\"\n",
              "              title=\"Convert this dataframe to an interactive table.\"\n",
              "              style=\"display:none;\">\n",
              "        \n",
              "  <svg xmlns=\"http://www.w3.org/2000/svg\" height=\"24px\"viewBox=\"0 0 24 24\"\n",
              "       width=\"24px\">\n",
              "    <path d=\"M0 0h24v24H0V0z\" fill=\"none\"/>\n",
              "    <path d=\"M18.56 5.44l.94 2.06.94-2.06 2.06-.94-2.06-.94-.94-2.06-.94 2.06-2.06.94zm-11 1L8.5 8.5l.94-2.06 2.06-.94-2.06-.94L8.5 2.5l-.94 2.06-2.06.94zm10 10l.94 2.06.94-2.06 2.06-.94-2.06-.94-.94-2.06-.94 2.06-2.06.94z\"/><path d=\"M17.41 7.96l-1.37-1.37c-.4-.4-.92-.59-1.43-.59-.52 0-1.04.2-1.43.59L10.3 9.45l-7.72 7.72c-.78.78-.78 2.05 0 2.83L4 21.41c.39.39.9.59 1.41.59.51 0 1.02-.2 1.41-.59l7.78-7.78 2.81-2.81c.8-.78.8-2.07 0-2.86zM5.41 20L4 18.59l7.72-7.72 1.47 1.35L5.41 20z\"/>\n",
              "  </svg>\n",
              "      </button>\n",
              "      \n",
              "  <style>\n",
              "    .colab-df-container {\n",
              "      display:flex;\n",
              "      flex-wrap:wrap;\n",
              "      gap: 12px;\n",
              "    }\n",
              "\n",
              "    .colab-df-convert {\n",
              "      background-color: #E8F0FE;\n",
              "      border: none;\n",
              "      border-radius: 50%;\n",
              "      cursor: pointer;\n",
              "      display: none;\n",
              "      fill: #1967D2;\n",
              "      height: 32px;\n",
              "      padding: 0 0 0 0;\n",
              "      width: 32px;\n",
              "    }\n",
              "\n",
              "    .colab-df-convert:hover {\n",
              "      background-color: #E2EBFA;\n",
              "      box-shadow: 0px 1px 2px rgba(60, 64, 67, 0.3), 0px 1px 3px 1px rgba(60, 64, 67, 0.15);\n",
              "      fill: #174EA6;\n",
              "    }\n",
              "\n",
              "    [theme=dark] .colab-df-convert {\n",
              "      background-color: #3B4455;\n",
              "      fill: #D2E3FC;\n",
              "    }\n",
              "\n",
              "    [theme=dark] .colab-df-convert:hover {\n",
              "      background-color: #434B5C;\n",
              "      box-shadow: 0px 1px 3px 1px rgba(0, 0, 0, 0.15);\n",
              "      filter: drop-shadow(0px 1px 2px rgba(0, 0, 0, 0.3));\n",
              "      fill: #FFFFFF;\n",
              "    }\n",
              "  </style>\n",
              "\n",
              "      <script>\n",
              "        const buttonEl =\n",
              "          document.querySelector('#df-1df54957-2414-4384-a32c-da240f8a337a button.colab-df-convert');\n",
              "        buttonEl.style.display =\n",
              "          google.colab.kernel.accessAllowed ? 'block' : 'none';\n",
              "\n",
              "        async function convertToInteractive(key) {\n",
              "          const element = document.querySelector('#df-1df54957-2414-4384-a32c-da240f8a337a');\n",
              "          const dataTable =\n",
              "            await google.colab.kernel.invokeFunction('convertToInteractive',\n",
              "                                                     [key], {});\n",
              "          if (!dataTable) return;\n",
              "\n",
              "          const docLinkHtml = 'Like what you see? Visit the ' +\n",
              "            '<a target=\"_blank\" href=https://colab.research.google.com/notebooks/data_table.ipynb>data table notebook</a>'\n",
              "            + ' to learn more about interactive tables.';\n",
              "          element.innerHTML = '';\n",
              "          dataTable['output_type'] = 'display_data';\n",
              "          await google.colab.output.renderOutput(dataTable, element);\n",
              "          const docLink = document.createElement('div');\n",
              "          docLink.innerHTML = docLinkHtml;\n",
              "          element.appendChild(docLink);\n",
              "        }\n",
              "      </script>\n",
              "    </div>\n",
              "  </div>\n",
              "  "
            ]
          },
          "metadata": {},
          "execution_count": 8
        }
      ]
    },
    {
      "cell_type": "code",
      "source": [
        "\n",
        "#fazendo a coluna atencao (coluna que gostariamos de prever):\n",
        "\n",
        "\n",
        "dSimNao = {'Sim':1,'Não':0}\n",
        "\n",
        "respostas['dep'].replace(dSimNao, inplace = True)\n",
        "respostas['ans'].replace(dSimNao, inplace = True)\n",
        "respostas['pan'].replace(dSimNao, inplace = True)\n",
        "respostas['med'].replace(dSimNao, inplace = True)\n",
        "respostas['acomp'].replace(dSimNao, inplace = True)\n",
        "\n",
        "\n",
        "respostas['atencao'] = (respostas.dep+respostas.ans+respostas.med)-(0.5*respostas.acomp)\n",
        "\n",
        "\n",
        "respostas.atencao.value_counts()\n"
      ],
      "metadata": {
        "colab": {
          "base_uri": "https://localhost:8080/"
        },
        "id": "gqGJsbCMsOpx",
        "outputId": "99817044-b6b0-4ffd-f3e1-173eeb42445a"
      },
      "execution_count": null,
      "outputs": [
        {
          "output_type": "execute_result",
          "data": {
            "text/plain": [
              " 1.0    43\n",
              " 0.0    36\n",
              " 0.5    24\n",
              " 2.0    19\n",
              " 2.5    16\n",
              " 1.5    15\n",
              "-0.5     6\n",
              " 3.0     1\n",
              "Name: atencao, dtype: int64"
            ]
          },
          "metadata": {},
          "execution_count": 34
        }
      ]
    },
    {
      "cell_type": "code",
      "source": [
        "#TRANSFORMA EM CATEGORIAS PARA USAR CLASSIFICADORES\n",
        "\n",
        "respostas.atencao = pd.cut(respostas.atencao, bins = 7, labels = ['Aluno não precisa de atenção aplicada (situação tranquila)','Recomenda-se observação (situação aparentemente calma)',\n",
        "                                                           'Recomenda-se atenção aplicada (situação aparenta levemente conturbada','Recomenda-se a busca de atendimento (situação ruim)',\n",
        "                                                           'Recomenda-se busca de ajuda psicologica(situação ruim)',\n",
        "                                                           'Recomenda-se a priorização da saúde mental (situação péssima)','Necessidade urgente de auxílio psicológico (situação péssima)'])\n",
        "\n",
        "\n",
        "respostas.atencao.value_counts()\n",
        "\n"
      ],
      "metadata": {
        "colab": {
          "base_uri": "https://localhost:8080/"
        },
        "id": "F78MXmMSyVk6",
        "outputId": "23708f95-a50f-43bc-819e-00858bf6c727"
      },
      "execution_count": null,
      "outputs": [
        {
          "output_type": "execute_result",
          "data": {
            "text/plain": [
              "Recomenda-se atenção aplicada (situação aparenta levemente conturbada    43\n",
              "Aluno não precisa de atenção aplicada (situação tranquila)               42\n",
              "Recomenda-se observação (situação aparentemente calma)                   24\n",
              "Recomenda-se busca de ajuda psicologica(situação ruim)                   19\n",
              "Recomenda-se a priorização da saúde mental (situação péssima)            16\n",
              "Recomenda-se a busca de atendimento (situação ruim)                      15\n",
              "Necessidade urgente de auxílio psicológico (situação péssima)             1\n",
              "Name: atencao, dtype: int64"
            ]
          },
          "metadata": {},
          "execution_count": 35
        }
      ]
    },
    {
      "cell_type": "code",
      "source": [
        "#label encoding:\n",
        "\n",
        "from sklearn.preprocessing import LabelEncoder\n",
        "\n",
        "\n",
        "leFacul = LabelEncoder()\n",
        "respostas.facul = leFacul.fit_transform(respostas.facul)\n",
        "print('label encoder faculdades: ',respostas.facul.unique())\n",
        "\n",
        "leCurso = LabelEncoder()\n",
        "respostas.curso = leCurso.fit_transform(respostas.curso)\n",
        "print('label encoder cursos: ', respostas.curso.unique())\n",
        "\n",
        "leEc = LabelEncoder()\n",
        "respostas.ec = leEc.fit_transform(respostas.ec)\n",
        "print('label encoder estado civil: ', respostas.ec.unique())\n",
        "\n",
        "leGen = LabelEncoder()\n",
        "respostas.gen = leGen.fit_transform(respostas.gen)\n",
        "print('label encoder genero: ', respostas.gen.unique())\n",
        "\n",
        "leCr = LabelEncoder()\n",
        "respostas.cr = leCr.fit_transform(respostas.cr)\n",
        "print('label encoder CR: ', respostas.cr.unique())\n",
        "\n",
        "\n",
        "\n",
        "\n",
        "print('dataframe para treinamento: \\n', respostas.head())"
      ],
      "metadata": {
        "id": "emmGDc0CwwN_",
        "colab": {
          "base_uri": "https://localhost:8080/"
        },
        "outputId": "9e25d3f3-767b-4f8c-f0fa-9d528fa2d6f5"
      },
      "execution_count": null,
      "outputs": [
        {
          "output_type": "stream",
          "name": "stdout",
          "text": [
            "label encoder faculdades:  [1 4 2 3 0]\n",
            "label encoder cursos:  [1 3 2 0 4]\n",
            "label encoder estado civil:  [0 1 2]\n",
            "label encoder genero:  [1 0]\n",
            "label encoder CR:  [1 2 0 3]\n",
            "dataframe para treinamento: \n",
            "    idade  gen  curso  facul  peri  cr  ec  dep  ans  pan  med  acomp  sent  \\\n",
            "0     19    1      1      1    14   1   0    1    1    1    1      1    10   \n",
            "1     20    1      3      4    15   2   1    0    0    0    0      0     2   \n",
            "2     19    1      1      2     2   0   2    0    0    0    0      0     9   \n",
            "3     18    1      1      2     2   0   2    0    0    0    0      0     8   \n",
            "4     18    1      1      2     2   0   2    0    0    0    0      0     8   \n",
            "\n",
            "                                             atencao  \n",
            "0  Necessidade urgente de auxílio psicológico (si...  \n",
            "1  Aluno não precisa de atenção aplicada (situaçã...  \n",
            "2  Aluno não precisa de atenção aplicada (situaçã...  \n",
            "3  Aluno não precisa de atenção aplicada (situaçã...  \n",
            "4  Aluno não precisa de atenção aplicada (situaçã...  \n"
          ]
        }
      ]
    },
    {
      "cell_type": "code",
      "source": [
        "#preparando coluna a ser prevista:\n",
        "\n",
        "from sklearn.model_selection import train_test_split\n",
        "\n",
        "X = respostas.drop(['dep','ans','pan','med','sent', 'atencao'], axis = 1)\n",
        "y = respostas['atencao']\n",
        "\n",
        "X_train, X_test, y_train, y_test = train_test_split(X,y, test_size = 0.3, random_state = 0)\n"
      ],
      "metadata": {
        "id": "1iuJRA4MrXon"
      },
      "execution_count": null,
      "outputs": []
    },
    {
      "cell_type": "markdown",
      "source": [
        "MODELOS QUE NAO RODARAM:\n"
      ],
      "metadata": {
        "id": "ia23pAy8z77j"
      }
    },
    {
      "cell_type": "code",
      "source": [
        "from sklearn.metrics import mean_squared_error, mean_absolute_error\n",
        "\n",
        "#REGRESSÃO LINEAR:\n",
        "from sklearn.linear_model import LinearRegression\n",
        "\n",
        "linReg = LinearRegression()\n",
        "linReg.fit(X_train,y_train)\n",
        "\n",
        "\n",
        "pred1 = linReg.predict(X_test)\n",
        "\n",
        "\n",
        "erro = np.sqrt(mean_squared_error(y_test, pred1))\n",
        "erro"
      ],
      "metadata": {
        "id": "1Cnlzcy34G6C"
      },
      "execution_count": null,
      "outputs": []
    },
    {
      "cell_type": "code",
      "source": [
        "\n",
        "#ARVORE DE DECISOES:\n",
        "from sklearn.tree import DecisionTreeRegressor\n",
        "\n",
        "decisionTree = DecisionTreeRegressor(random_state=0)\n",
        "decisionTree.fit(X_train, y_train)\n",
        "\n",
        "pred = decisionTree.predict(X_test)\n",
        "\n",
        "erro = np.sqrt(mean_squared_error(y_test, pred))\n",
        "erro\n"
      ],
      "metadata": {
        "id": "4ORGVPRyLe5F",
        "colab": {
          "base_uri": "https://localhost:8080/"
        },
        "outputId": "746c3e98-ee68-4b42-fd42-2045ebdd2a75"
      },
      "execution_count": null,
      "outputs": [
        {
          "output_type": "execute_result",
          "data": {
            "text/plain": [
              "1.0487978126654594"
            ]
          },
          "metadata": {},
          "execution_count": 14
        }
      ]
    },
    {
      "cell_type": "code",
      "source": [
        "\n",
        "# REGRESSOR FOREST\n",
        "from sklearn.ensemble import RandomForestRegressor\n",
        "\n",
        "randForest = RandomForestRegressor(random_state=0)\n",
        "randForest.fit(X_train, y_train)\n",
        "pred = randForest.predict(X_test)\n",
        "\n",
        "\n",
        "\n",
        "erro = np.sqrt(mean_squared_error(y_test, pred))\n",
        "erro"
      ],
      "metadata": {
        "id": "PUObojVMMEl3",
        "colab": {
          "base_uri": "https://localhost:8080/"
        },
        "outputId": "46ca1e11-0549-44ec-f7ce-1ef7d3949905"
      },
      "execution_count": null,
      "outputs": [
        {
          "output_type": "execute_result",
          "data": {
            "text/plain": [
              "0.9209013511449217"
            ]
          },
          "metadata": {},
          "execution_count": 15
        }
      ]
    },
    {
      "cell_type": "code",
      "source": [
        "\n",
        "from sklearn.neural_network import  MLPRegressor\n",
        "\n",
        "\n",
        "\n",
        "mlpReg= MLPRegressor()\n",
        "mlpReg.fit(X_train, y_train.values)\n",
        "pred = mlpReg.predict(X_test)\n",
        "\n",
        "print(f\"A precisao do teste usando Classifier foi de {accuracy_score(y_test, pred)*100:.2f}% \")\n"
      ],
      "metadata": {
        "id": "hbEORBLFj2tE"
      },
      "execution_count": null,
      "outputs": []
    },
    {
      "cell_type": "markdown",
      "source": [
        "MODELOS QUE RODARAM:"
      ],
      "metadata": {
        "id": "HxMFYthzz4VK"
      }
    },
    {
      "cell_type": "code",
      "source": [
        "from sklearn.metrics import accuracy_score\n",
        "from sklearn.neural_network import MLPClassifier\n",
        "\n",
        "\n",
        "\n",
        "mlpClas= MLPClassifier()\n",
        "mlpClas.fit(X_train, y_train.values)\n",
        "pred = mlpClas.predict(X_test)\n",
        "\n",
        "print(f\"PRECISAO MLP CLASSIFIER {accuracy_score(y_test, pred)*100:.2f}% \")\n"
      ],
      "metadata": {
        "colab": {
          "base_uri": "https://localhost:8080/"
        },
        "id": "VhDx7JO-UmnM",
        "outputId": "1f284db1-2a2a-4f97-ed04-aa7cae273b78"
      },
      "execution_count": null,
      "outputs": [
        {
          "output_type": "stream",
          "name": "stdout",
          "text": [
            "PRECISAO MLP CLASSIFIER 41.67% \n"
          ]
        },
        {
          "output_type": "stream",
          "name": "stderr",
          "text": [
            "/usr/local/lib/python3.8/dist-packages/sklearn/neural_network/_multilayer_perceptron.py:692: ConvergenceWarning: Stochastic Optimizer: Maximum iterations (200) reached and the optimization hasn't converged yet.\n",
            "  warnings.warn(\n"
          ]
        }
      ]
    },
    {
      "cell_type": "code",
      "source": [
        "from sklearn.naive_bayes import GaussianNB\n",
        "\n",
        "gaussNb = GaussianNB()\n",
        "gaussNb.fit(X_train, y_train)\n",
        "\n",
        "gaussPred = gaussNb.predict(X_test) #maior taxa de acerto\n",
        "\n",
        "print(f\"PRECISAO GAUSSIAN NB: {accuracy_score(y_test,gaussPred)*100:.2f}% \")"
      ],
      "metadata": {
        "colab": {
          "base_uri": "https://localhost:8080/"
        },
        "id": "9x7OjsKSWqHr",
        "outputId": "1a517bbd-1ad6-4959-b4da-803b07b01bcb"
      },
      "execution_count": null,
      "outputs": [
        {
          "output_type": "stream",
          "name": "stdout",
          "text": [
            "PRECISAO GAUSSIAN NB: 58.33% \n"
          ]
        }
      ]
    },
    {
      "cell_type": "code",
      "source": [
        "from sklearn.tree import DecisionTreeClassifier \n",
        "\n",
        "\n",
        "decTreeClas = DecisionTreeClassifier()\n",
        "decTreeClas.fit(X_train, y_train)\n",
        "\n",
        "decTreePred = decTreeClas.predict(X_test)\n",
        "print(f\"PRECISAO DECISION TREE CLASSIFIER {accuracy_score(y_test, decTreePred)*100:.2f}% \")\n"
      ],
      "metadata": {
        "colab": {
          "base_uri": "https://localhost:8080/"
        },
        "id": "oNM0HqVDd9RQ",
        "outputId": "325c2286-6c5b-48c6-b870-1d07a43f0760"
      },
      "execution_count": null,
      "outputs": [
        {
          "output_type": "stream",
          "name": "stdout",
          "text": [
            "PRECISAO DECISION TREE CLASSIFIER 18.75% \n"
          ]
        }
      ]
    },
    {
      "cell_type": "code",
      "source": [
        "from sklearn.ensemble import GradientBoostingClassifier\n",
        "\n",
        "gbClass = GradientBoostingClassifier()\n",
        "gbClass.fit(X_train,y_train)\n",
        "\n",
        "gbcPred = gbClass.predict(X_test)\n",
        "\n",
        "print(f\"PRECISAO GRADIENT BOOSTING CLASSIFIER {accuracy_score(y_test, gbcPred)*100:.2f}% \")\n"
      ],
      "metadata": {
        "colab": {
          "base_uri": "https://localhost:8080/"
        },
        "id": "_e3_eACSu2OQ",
        "outputId": "f0de6ad1-4681-4298-ef5a-dbbe7b2d85ef"
      },
      "execution_count": null,
      "outputs": [
        {
          "output_type": "stream",
          "name": "stdout",
          "text": [
            "PRECISAO GRADIENT BOOSTING CLASSIFIER 18.75% \n"
          ]
        }
      ]
    },
    {
      "cell_type": "code",
      "source": [
        "from sklearn.linear_model import LogisticRegression\n",
        "\n",
        "logReg= LogisticRegression()\n",
        "logReg.fit(X_train, y_train)\n",
        "\n",
        "lRegPred = logReg.predict(X_test)\n",
        "print(f\"PRECISAO LOGISTIC REGRESSION {accuracy_score(y_test, lRegPred)*100:.2f}% \")"
      ],
      "metadata": {
        "colab": {
          "base_uri": "https://localhost:8080/"
        },
        "id": "-q2D-oYjxTBd",
        "outputId": "852a57b3-13ca-4c0f-bd54-0fe26b1611d7"
      },
      "execution_count": null,
      "outputs": [
        {
          "output_type": "stream",
          "name": "stdout",
          "text": [
            "PRECISAO LOGISTIC REGRESSION 18.75% \n"
          ]
        },
        {
          "output_type": "stream",
          "name": "stderr",
          "text": [
            "/usr/local/lib/python3.8/dist-packages/sklearn/linear_model/_logistic.py:814: ConvergenceWarning: lbfgs failed to converge (status=1):\n",
            "STOP: TOTAL NO. of ITERATIONS REACHED LIMIT.\n",
            "\n",
            "Increase the number of iterations (max_iter) or scale the data as shown in:\n",
            "    https://scikit-learn.org/stable/modules/preprocessing.html\n",
            "Please also refer to the documentation for alternative solver options:\n",
            "    https://scikit-learn.org/stable/modules/linear_model.html#logistic-regression\n",
            "  n_iter_i = _check_optimize_result(\n"
          ]
        }
      ]
    },
    {
      "cell_type": "markdown",
      "source": [
        "Teste do modelo: \n",
        "\n"
      ],
      "metadata": {
        "id": "bF0ZBbk_0glc"
      }
    },
    {
      "cell_type": "code",
      "source": [
        "#SIMULANDO INPUT DO USUARIO:\n",
        "X = np.array([[19,'Masculino','Engenharia','PUC',2,3,'Solteiro','Sim']])\n",
        "X\n"
      ],
      "metadata": {
        "colab": {
          "base_uri": "https://localhost:8080/"
        },
        "id": "Kb91wjPrz2aC",
        "outputId": "8a6ecf29-d92a-49d1-8c15-0025b8133119"
      },
      "execution_count": null,
      "outputs": [
        {
          "output_type": "execute_result",
          "data": {
            "text/plain": [
              "array([['19', 'Masculino', 'Engenharia', 'PUC', '2', '3', 'Solteiro',\n",
              "        'Sim']], dtype='<U21')"
            ]
          },
          "metadata": {},
          "execution_count": 12
        }
      ]
    },
    {
      "cell_type": "code",
      "source": [
        "#CONVERTENDO VALORES:\n",
        "X[:,1] = leGen.transform(X[:,1])\n",
        "X[:,2] = leCurso.transform(X[:,2])\n",
        "X[:,3] = leFacul.transform(X[:,3])\n",
        "X[:,6] = leEc.transform(X[:,6])\n",
        "X[:,7] = dSimNao.get(X[0][7] )\n",
        "X = X.astype(float)\n",
        "X"
      ],
      "metadata": {
        "colab": {
          "base_uri": "https://localhost:8080/"
        },
        "id": "45niM_3r2ASg",
        "outputId": "7b52742a-45d9-4b81-e454-560e526e95cc"
      },
      "execution_count": null,
      "outputs": [
        {
          "output_type": "execute_result",
          "data": {
            "text/plain": [
              "array([[19.,  1.,  1.,  2.,  2.,  3.,  2.,  1.]])"
            ]
          },
          "metadata": {},
          "execution_count": 13
        }
      ]
    },
    {
      "cell_type": "code",
      "source": [
        "y_test = gaussNb.predict(X)\n",
        "y_test"
      ],
      "metadata": {
        "colab": {
          "base_uri": "https://localhost:8080/"
        },
        "id": "rOKU7ged5xGq",
        "outputId": "8b98efb7-e72e-4781-d2a9-06fdd4568cd0"
      },
      "execution_count": null,
      "outputs": [
        {
          "output_type": "stream",
          "name": "stderr",
          "text": [
            "/usr/local/lib/python3.8/dist-packages/sklearn/base.py:450: UserWarning: X does not have valid feature names, but GaussianNB was fitted with feature names\n",
            "  warnings.warn(\n"
          ]
        },
        {
          "output_type": "execute_result",
          "data": {
            "text/plain": [
              "array(['Recomenda-se observação (situação aparentemente calma)'],\n",
              "      dtype='<U69')"
            ]
          },
          "metadata": {},
          "execution_count": 15
        }
      ]
    },
    {
      "cell_type": "code",
      "source": [
        "importances = pd.DataFrame({'feature':X_train.columns,'importance':np.round(gbClass.feature_importances_,3)})\n",
        "importances = importances.sort_values('importance',ascending=False).set_index('feature')\n",
        "importances.plot.bar(figsize=(20,5),rot = 0)\n"
      ],
      "metadata": {
        "colab": {
          "base_uri": "https://localhost:8080/",
          "height": 339
        },
        "id": "huhxxY0H7EUI",
        "outputId": "1fdb7423-522f-4423-fadb-04a974eb86bc"
      },
      "execution_count": null,
      "outputs": [
        {
          "output_type": "execute_result",
          "data": {
            "text/plain": [
              "<matplotlib.axes._subplots.AxesSubplot at 0x7fbfbfe0cca0>"
            ]
          },
          "metadata": {},
          "execution_count": 16
        },
        {
          "output_type": "display_data",
          "data": {
            "text/plain": [
              "<Figure size 1440x360 with 1 Axes>"
            ],
            "image/png": "[encoded data removed]"
          },
          "metadata": {
            "needs_background": "light"
          }
        }
      ]
    },
    {
      "cell_type": "markdown",
      "source": [
        "Salvando com o pickle para o site:"
      ],
      "metadata": {
        "id": "mqGATjh0AYwR"
      }
    },
    {
      "cell_type": "code",
      "source": [
        "import pickle \n",
        "\n",
        "data = {\"modelo\": gaussNb, \"leGen\": leGen,  \"leCurso\": leCurso, \"leFacul\": leFacul, \"leEc\": leEc}\n",
        "with open('passos.pkl', 'wb') as file:\n",
        "    pickle.dump(data, file)\n",
        "\n"
      ],
      "metadata": {
        "id": "8YLZO9jbAP2a"
      },
      "execution_count": null,
      "outputs": []
    },
    {
      "cell_type": "code",
      "source": [
        "#pegando do arquivo\n",
        "with open('passos.pkl', 'rb') as file:\n",
        "    data = pickle.load(file)\n",
        "\n",
        "modeloLoad = data['modelo']\n",
        "leGen = data[\"leGen\"]\n",
        "leCurso = data['leCurso']\n",
        "leFacul = data['leFacul']\n",
        "leEc = data['leEc']\n"
      ],
      "metadata": {
        "id": "Bs_FWTtsSb1f"
      },
      "execution_count": null,
      "outputs": []
    },
    {
      "cell_type": "code",
      "source": [
        "y_test = modeloLoad.predict(X)\n",
        "y_test"
      ],
      "metadata": {
        "colab": {
          "base_uri": "https://localhost:8080/"
        },
        "id": "UnqRPDGVUiDt",
        "outputId": "5e72a95e-f52a-415b-8450-1aa4073580e7"
      },
      "execution_count": null,
      "outputs": [
        {
          "output_type": "stream",
          "name": "stderr",
          "text": [
            "/usr/local/lib/python3.8/dist-packages/sklearn/base.py:450: UserWarning: X does not have valid feature names, but GaussianNB was fitted with feature names\n",
            "  warnings.warn(\n"
          ]
        },
        {
          "output_type": "execute_result",
          "data": {
            "text/plain": [
              "array(['Recomenda-se observação (situação aparentemente calma)'],\n",
              "      dtype='<U69')"
            ]
          },
          "metadata": {},
          "execution_count": 19
        }
      ]
    },
    {
      "cell_type": "code",
      "source": [],
      "metadata": {
        "id": "Da7KjqcsCd2W"
      },
      "execution_count": null,
      "outputs": []
    }
  ],
  "metadata": {
    "colab": {
      "provenance": [],
      "toc_visible": true,
      "include_colab_link": true
    },
    "kernelspec": {
      "display_name": "Python 3",
      "name": "python3"
    },
    "language_info": {
      "name": "python"
    }
  },
  "nbformat": 4,
  "nbformat_minor": 0
}